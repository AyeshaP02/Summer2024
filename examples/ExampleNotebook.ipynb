{
 "cells": [
  {
   "cell_type": "code",
   "execution_count": 1,
   "metadata": {},
   "outputs": [],
   "source": [
    "from pyimagetool.ImageTool import ImageTool\n",
    "from pyimagetool import RegularDataArray  # needed if your data has axes\n",
    "import numpy as np\n",
    "# the next line is important! You must include it for the ImageTool to show up!\n",
    "%gui qt"
   ]
  },
  {
   "cell_type": "markdown",
   "metadata": {},
   "source": [
    "# Generate Data"
   ]
  },
  {
   "cell_type": "code",
   "execution_count": 2,
   "metadata": {},
   "outputs": [],
   "source": [
    "x = np.linspace(-1, 1, 51)\n",
    "y = np.linspace(-1, 1, 51)\n",
    "xy = np.meshgrid(x, y, indexing='ij')\n",
    "z = np.sin(np.pi*np.exp(-1*(xy[0]**2 + xy[1]**2)))*np.cos(np.pi/2*xy[1])\n",
    "data = RegularDataArray(z, axes=[x, y])"
   ]
  },
  {
   "cell_type": "markdown",
   "metadata": {},
   "source": [
    "# Create an ImageTool object"
   ]
  },
  {
   "cell_type": "code",
   "execution_count": 4,
   "metadata": {},
   "outputs": [],
   "source": [
    "tool = ImageTool(data)"
   ]
  },
  {
   "cell_type": "markdown",
   "metadata": {},
   "source": [
    "# Show the tool"
   ]
  },
  {
   "cell_type": "code",
   "execution_count": 5,
   "metadata": {},
   "outputs": [],
   "source": [
    "tool.show()"
   ]
  },
  {
   "cell_type": "markdown",
   "metadata": {},
   "source": [
    "# Discussion\n",
    "## Known Jupyter Bug\n",
    "- The first tool launched after restarting the python kernel is likely to be bugged. If so, close the window, re-create the ImageTool object, and show it again.\n",
    "\n",
    "## Controls\n",
    "- Hold shift to drag the cursors to mouse location.\n",
    "- While hovering over the cursor index or cursor coordinate spinbox, use the middle mouse wheel to move by increments of 1\n",
    "- Hold control and scroll middle mouse wheel to move by increments of 10\n",
    "- Left-click and drag to move image/plot\n",
    "- Right-click and drag to resize (horizontal drag resizes horizontally, vertical drag resizes vertically)\n",
    "- Ctrl+A will undo manipulations to view all data\n",
    "- Right-click to open a menu. If you right-click on an image, you can set the aspect ratio\n",
    "- Export feature currently not working\n",
    "\n",
    "### Editing Colormaps\n",
    "- Right-click image, and select \"Edit Color Map\"\n",
    "- Color map normalizations on top, choices are \"Power Law\" or \"Piecewise.\" Power law useful for quickly rescaling to make weak features stronger or vice versa with the gamma control, but piecewise gives you much more control.\n",
    "- You can always see how the colormap is changing in the top right image of the colorbar.\n",
    "- Bottom right is a histogram of the data. The x-axis is the value in the data and the y-axis is normalized weight at that value. For example, an image of a gaussian (z = exp(-x^2-y^2)) would have a large amount of weight at x-axis=0 falling off rapidly to almost zero at x-axis=1 (because there is only one point where z = 1 which is at x=0, y=0 in the image).\n",
    "- As the cursor scans the histogram, an isosurface appears in the data showing the contours of constant value. Because the algorithm that computes the isocurve is pure python, it is slow. If the tool noticeably slows down, consider disabling the isocurve calculations by unticking the box in the top left.\n",
    "- In addition to the histogram, a line is drawn representing how values in your data is mapped to the colorbar. Imagine the colorbar is the y-axis and values in the image are on the x-axis. By default, color scales are linear. As you change gamma in power-law mode, you will see this curve become nonlinear, as the colorbar will noticeably deform.\n",
    "- If the color map editor is in piecewise mode, you can drag points representing the max and min of the color scale. Furthermore, by right-clicking in the histogram area, you can add more points. This is useful for forcing your colorbar to highlight a region between two isosurfaces."
   ]
  },
  {
   "cell_type": "code",
   "execution_count": null,
   "metadata": {},
   "outputs": [],
   "source": []
  }
 ],
 "metadata": {
  "kernelspec": {
   "display_name": "Python 3",
   "language": "python",
   "name": "python3"
  },
  "language_info": {
   "codemirror_mode": {
    "name": "ipython",
    "version": 3
   },
   "file_extension": ".py",
   "mimetype": "text/x-python",
   "name": "python",
   "nbconvert_exporter": "python",
   "pygments_lexer": "ipython3",
   "version": "3.9.0"
  }
 },
 "nbformat": 4,
 "nbformat_minor": 4
}
